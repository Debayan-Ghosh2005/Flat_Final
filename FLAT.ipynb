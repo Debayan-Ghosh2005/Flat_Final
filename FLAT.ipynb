{
  "nbformat": 4,
  "nbformat_minor": 0,
  "metadata": {
    "colab": {
      "provenance": [],
      "authorship_tag": "ABX9TyPGQa5SnWJlwIN/U9MeDStD",
      "include_colab_link": true
    },
    "kernelspec": {
      "name": "python3",
      "display_name": "Python 3"
    },
    "language_info": {
      "name": "python"
    }
  },
  "cells": [
    {
      "cell_type": "markdown",
      "metadata": {
        "id": "view-in-github",
        "colab_type": "text"
      },
      "source": [
        "<a href=\"https://colab.research.google.com/github/Debayan-Ghosh2005/Flat_Final/blob/main/FLAT.ipynb\" target=\"_parent\"><img src=\"https://colab.research.google.com/assets/colab-badge.svg\" alt=\"Open In Colab\"/></a>"
      ]
    },
    {
      "cell_type": "markdown",
      "source": [
        "# **SIMPLE PYTHON CODE**"
      ],
      "metadata": {
        "id": "FR9yYpjrOSKS"
      }
    },
    {
      "cell_type": "code",
      "execution_count": null,
      "metadata": {
        "colab": {
          "base_uri": "https://localhost:8080/"
        },
        "id": "05dCLcQXV2V0",
        "outputId": "f0f5a2e0-ea09-4f7f-a27a-22035c0a581c"
      },
      "outputs": [
        {
          "output_type": "stream",
          "name": "stdout",
          "text": [
            "Enter a simple regex (only literals and '*'): ab*\n",
            "Enter a text to match (or type 'exit' to quit): a\n",
            "Does 'a' match the regex 'ab*'? -> True\n",
            "Enter a text to match (or type 'exit' to quit): ab\n",
            "Does 'ab' match the regex 'ab*'? -> True\n",
            "Enter a text to match (or type 'exit' to quit): abb\n",
            "Does 'abb' match the regex 'ab*'? -> True\n",
            "Enter a text to match (or type 'exit' to quit): ac\n",
            "Does 'ac' match the regex 'ab*'? -> False\n",
            "Enter a text to match (or type 'exit' to quit): abbbbbbbbbbbbbbbbbbbbbbb\n",
            "Does 'abbbbbbbbbbbbbbbbbbbbbbb' match the regex 'ab*'? -> True\n",
            "Enter a text to match (or type 'exit' to quit): exit\n",
            "Exiting...\n"
          ]
        }
      ],
      "source": [
        "class State:\n",
        "    def __init__(self, is_final=False):\n",
        "        self.transitions = {}\n",
        "        self.is_final = is_final\n",
        "\n",
        "    def add_transition(self, char, state):\n",
        "        if char not in self.transitions:\n",
        "            self.transitions[char] = []\n",
        "        self.transitions[char].append(state)\n",
        "\n",
        "class FiniteAutomaton:\n",
        "    def __init__(self):\n",
        "        self.start_state = None\n",
        "\n",
        "    def build_from_regex(self, regex):\n",
        "        current_state = State()\n",
        "        self.start_state = current_state\n",
        "\n",
        "        i = 0\n",
        "        while i < len(regex):\n",
        "            char = regex[i]\n",
        "            if i + 1 < len(regex) and regex[i+1] == '*':\n",
        "                loop_state = State()\n",
        "                current_state.add_transition(char, loop_state)\n",
        "                loop_state.add_transition(char, loop_state)\n",
        "                current_state.add_transition('', loop_state)\n",
        "                current_state = loop_state\n",
        "                i += 2\n",
        "            else:\n",
        "                next_state = State()\n",
        "                current_state.add_transition(char, next_state)\n",
        "                current_state = next_state\n",
        "                i += 1\n",
        "        current_state.is_final = True\n",
        "\n",
        "    def match(self, text):\n",
        "        def dfs(state, idx):\n",
        "            if idx == len(text):\n",
        "                if state.is_final:\n",
        "                    return True\n",
        "                if '' in state.transitions:\n",
        "                    for next_state in state.transitions['']:\n",
        "                        if dfs(next_state, idx):\n",
        "                            return True\n",
        "                return False\n",
        "            char = text[idx]\n",
        "            if char in state.transitions:\n",
        "                for next_state in state.transitions[char]:\n",
        "                    if dfs(next_state, idx + 1):\n",
        "                        return True\n",
        "            if '' in state.transitions:\n",
        "                for next_state in state.transitions['']:\n",
        "                    if dfs(next_state, idx):\n",
        "                        return True\n",
        "            return False\n",
        "\n",
        "        return dfs(self.start_state, 0)\n",
        "\n",
        "\n",
        "\n",
        "if __name__ == \"__main__\":\n",
        "    regex_input = input(\"Enter a simple regex (only literals and '*'): \")\n",
        "    fa = FiniteAutomaton()\n",
        "    fa.build_from_regex(regex_input)\n",
        "\n",
        "    while True:\n",
        "        text_input = input(\"Enter a text to match (or type 'exit' to quit): \")\n",
        "        if text_input.lower() == 'exit':\n",
        "            print(\"Exiting...\")\n",
        "            break\n",
        "        result = fa.match(text_input)\n",
        "        print(f\"Does '{text_input}' match the regex '{regex_input}'? -> {result}\")\n"
      ]
    },
    {
      "cell_type": "markdown",
      "source": [
        "# **LIBARY **"
      ],
      "metadata": {
        "id": "MX0tWIbkOkYo"
      }
    },
    {
      "cell_type": "code",
      "source": [
        "!pip install gradio\n"
      ],
      "metadata": {
        "colab": {
          "base_uri": "https://localhost:8080/"
        },
        "id": "EhBVj9j8Lv13",
        "outputId": "dbc637b8-f1dd-46af-a9bc-d4bd55112671"
      },
      "execution_count": null,
      "outputs": [
        {
          "output_type": "stream",
          "name": "stdout",
          "text": [
            "Collecting gradio\n",
            "  Downloading gradio-5.27.0-py3-none-any.whl.metadata (16 kB)\n",
            "Collecting aiofiles<25.0,>=22.0 (from gradio)\n",
            "  Downloading aiofiles-24.1.0-py3-none-any.whl.metadata (10 kB)\n",
            "Requirement already satisfied: anyio<5.0,>=3.0 in /usr/local/lib/python3.11/dist-packages (from gradio) (4.9.0)\n",
            "Collecting fastapi<1.0,>=0.115.2 (from gradio)\n",
            "  Downloading fastapi-0.115.12-py3-none-any.whl.metadata (27 kB)\n",
            "Collecting ffmpy (from gradio)\n",
            "  Downloading ffmpy-0.5.0-py3-none-any.whl.metadata (3.0 kB)\n",
            "Collecting gradio-client==1.9.0 (from gradio)\n",
            "  Downloading gradio_client-1.9.0-py3-none-any.whl.metadata (7.1 kB)\n",
            "Collecting groovy~=0.1 (from gradio)\n",
            "  Downloading groovy-0.1.2-py3-none-any.whl.metadata (6.1 kB)\n",
            "Requirement already satisfied: httpx>=0.24.1 in /usr/local/lib/python3.11/dist-packages (from gradio) (0.28.1)\n",
            "Requirement already satisfied: huggingface-hub>=0.28.1 in /usr/local/lib/python3.11/dist-packages (from gradio) (0.30.2)\n",
            "Requirement already satisfied: jinja2<4.0 in /usr/local/lib/python3.11/dist-packages (from gradio) (3.1.6)\n",
            "Requirement already satisfied: markupsafe<4.0,>=2.0 in /usr/local/lib/python3.11/dist-packages (from gradio) (3.0.2)\n",
            "Requirement already satisfied: numpy<3.0,>=1.0 in /usr/local/lib/python3.11/dist-packages (from gradio) (2.0.2)\n",
            "Requirement already satisfied: orjson~=3.0 in /usr/local/lib/python3.11/dist-packages (from gradio) (3.10.16)\n",
            "Requirement already satisfied: packaging in /usr/local/lib/python3.11/dist-packages (from gradio) (24.2)\n",
            "Requirement already satisfied: pandas<3.0,>=1.0 in /usr/local/lib/python3.11/dist-packages (from gradio) (2.2.2)\n",
            "Requirement already satisfied: pillow<12.0,>=8.0 in /usr/local/lib/python3.11/dist-packages (from gradio) (11.1.0)\n",
            "Requirement already satisfied: pydantic<2.12,>=2.0 in /usr/local/lib/python3.11/dist-packages (from gradio) (2.11.3)\n",
            "Collecting pydub (from gradio)\n",
            "  Downloading pydub-0.25.1-py2.py3-none-any.whl.metadata (1.4 kB)\n",
            "Collecting python-multipart>=0.0.18 (from gradio)\n",
            "  Downloading python_multipart-0.0.20-py3-none-any.whl.metadata (1.8 kB)\n",
            "Requirement already satisfied: pyyaml<7.0,>=5.0 in /usr/local/lib/python3.11/dist-packages (from gradio) (6.0.2)\n",
            "Collecting ruff>=0.9.3 (from gradio)\n",
            "  Downloading ruff-0.11.7-py3-none-manylinux_2_17_x86_64.manylinux2014_x86_64.whl.metadata (25 kB)\n",
            "Collecting safehttpx<0.2.0,>=0.1.6 (from gradio)\n",
            "  Downloading safehttpx-0.1.6-py3-none-any.whl.metadata (4.2 kB)\n",
            "Collecting semantic-version~=2.0 (from gradio)\n",
            "  Downloading semantic_version-2.10.0-py2.py3-none-any.whl.metadata (9.7 kB)\n",
            "Collecting starlette<1.0,>=0.40.0 (from gradio)\n",
            "  Downloading starlette-0.46.2-py3-none-any.whl.metadata (6.2 kB)\n",
            "Collecting tomlkit<0.14.0,>=0.12.0 (from gradio)\n",
            "  Downloading tomlkit-0.13.2-py3-none-any.whl.metadata (2.7 kB)\n",
            "Requirement already satisfied: typer<1.0,>=0.12 in /usr/local/lib/python3.11/dist-packages (from gradio) (0.15.2)\n",
            "Requirement already satisfied: typing-extensions~=4.0 in /usr/local/lib/python3.11/dist-packages (from gradio) (4.13.2)\n",
            "Collecting uvicorn>=0.14.0 (from gradio)\n",
            "  Downloading uvicorn-0.34.2-py3-none-any.whl.metadata (6.5 kB)\n",
            "Requirement already satisfied: fsspec in /usr/local/lib/python3.11/dist-packages (from gradio-client==1.9.0->gradio) (2025.3.2)\n",
            "Requirement already satisfied: websockets<16.0,>=10.0 in /usr/local/lib/python3.11/dist-packages (from gradio-client==1.9.0->gradio) (15.0.1)\n",
            "Requirement already satisfied: idna>=2.8 in /usr/local/lib/python3.11/dist-packages (from anyio<5.0,>=3.0->gradio) (3.10)\n",
            "Requirement already satisfied: sniffio>=1.1 in /usr/local/lib/python3.11/dist-packages (from anyio<5.0,>=3.0->gradio) (1.3.1)\n",
            "Requirement already satisfied: certifi in /usr/local/lib/python3.11/dist-packages (from httpx>=0.24.1->gradio) (2025.1.31)\n",
            "Requirement already satisfied: httpcore==1.* in /usr/local/lib/python3.11/dist-packages (from httpx>=0.24.1->gradio) (1.0.8)\n",
            "Requirement already satisfied: h11<0.15,>=0.13 in /usr/local/lib/python3.11/dist-packages (from httpcore==1.*->httpx>=0.24.1->gradio) (0.14.0)\n",
            "Requirement already satisfied: filelock in /usr/local/lib/python3.11/dist-packages (from huggingface-hub>=0.28.1->gradio) (3.18.0)\n",
            "Requirement already satisfied: requests in /usr/local/lib/python3.11/dist-packages (from huggingface-hub>=0.28.1->gradio) (2.32.3)\n",
            "Requirement already satisfied: tqdm>=4.42.1 in /usr/local/lib/python3.11/dist-packages (from huggingface-hub>=0.28.1->gradio) (4.67.1)\n",
            "Requirement already satisfied: python-dateutil>=2.8.2 in /usr/local/lib/python3.11/dist-packages (from pandas<3.0,>=1.0->gradio) (2.8.2)\n",
            "Requirement already satisfied: pytz>=2020.1 in /usr/local/lib/python3.11/dist-packages (from pandas<3.0,>=1.0->gradio) (2025.2)\n",
            "Requirement already satisfied: tzdata>=2022.7 in /usr/local/lib/python3.11/dist-packages (from pandas<3.0,>=1.0->gradio) (2025.2)\n",
            "Requirement already satisfied: annotated-types>=0.6.0 in /usr/local/lib/python3.11/dist-packages (from pydantic<2.12,>=2.0->gradio) (0.7.0)\n",
            "Requirement already satisfied: pydantic-core==2.33.1 in /usr/local/lib/python3.11/dist-packages (from pydantic<2.12,>=2.0->gradio) (2.33.1)\n",
            "Requirement already satisfied: typing-inspection>=0.4.0 in /usr/local/lib/python3.11/dist-packages (from pydantic<2.12,>=2.0->gradio) (0.4.0)\n",
            "Requirement already satisfied: click>=8.0.0 in /usr/local/lib/python3.11/dist-packages (from typer<1.0,>=0.12->gradio) (8.1.8)\n",
            "Requirement already satisfied: shellingham>=1.3.0 in /usr/local/lib/python3.11/dist-packages (from typer<1.0,>=0.12->gradio) (1.5.4)\n",
            "Requirement already satisfied: rich>=10.11.0 in /usr/local/lib/python3.11/dist-packages (from typer<1.0,>=0.12->gradio) (13.9.4)\n",
            "Requirement already satisfied: six>=1.5 in /usr/local/lib/python3.11/dist-packages (from python-dateutil>=2.8.2->pandas<3.0,>=1.0->gradio) (1.17.0)\n",
            "Requirement already satisfied: markdown-it-py>=2.2.0 in /usr/local/lib/python3.11/dist-packages (from rich>=10.11.0->typer<1.0,>=0.12->gradio) (3.0.0)\n",
            "Requirement already satisfied: pygments<3.0.0,>=2.13.0 in /usr/local/lib/python3.11/dist-packages (from rich>=10.11.0->typer<1.0,>=0.12->gradio) (2.18.0)\n",
            "Requirement already satisfied: charset-normalizer<4,>=2 in /usr/local/lib/python3.11/dist-packages (from requests->huggingface-hub>=0.28.1->gradio) (3.4.1)\n",
            "Requirement already satisfied: urllib3<3,>=1.21.1 in /usr/local/lib/python3.11/dist-packages (from requests->huggingface-hub>=0.28.1->gradio) (2.3.0)\n",
            "Requirement already satisfied: mdurl~=0.1 in /usr/local/lib/python3.11/dist-packages (from markdown-it-py>=2.2.0->rich>=10.11.0->typer<1.0,>=0.12->gradio) (0.1.2)\n",
            "Downloading gradio-5.27.0-py3-none-any.whl (54.0 MB)\n",
            "\u001b[2K   \u001b[90m━━━━━━━━━━━━━━━━━━━━━━━━━━━━━━━━━━━━━━━━\u001b[0m \u001b[32m54.0/54.0 MB\u001b[0m \u001b[31m20.5 MB/s\u001b[0m eta \u001b[36m0:00:00\u001b[0m\n",
            "\u001b[?25hDownloading gradio_client-1.9.0-py3-none-any.whl (322 kB)\n",
            "\u001b[2K   \u001b[90m━━━━━━━━━━━━━━━━━━━━━━━━━━━━━━━━━━━━━━━━\u001b[0m \u001b[32m322.6/322.6 kB\u001b[0m \u001b[31m21.5 MB/s\u001b[0m eta \u001b[36m0:00:00\u001b[0m\n",
            "\u001b[?25hDownloading aiofiles-24.1.0-py3-none-any.whl (15 kB)\n",
            "Downloading fastapi-0.115.12-py3-none-any.whl (95 kB)\n",
            "\u001b[2K   \u001b[90m━━━━━━━━━━━━━━━━━━━━━━━━━━━━━━━━━━━━━━━━\u001b[0m \u001b[32m95.2/95.2 kB\u001b[0m \u001b[31m7.5 MB/s\u001b[0m eta \u001b[36m0:00:00\u001b[0m\n",
            "\u001b[?25hDownloading groovy-0.1.2-py3-none-any.whl (14 kB)\n",
            "Downloading python_multipart-0.0.20-py3-none-any.whl (24 kB)\n",
            "Downloading ruff-0.11.7-py3-none-manylinux_2_17_x86_64.manylinux2014_x86_64.whl (11.5 MB)\n",
            "\u001b[2K   \u001b[90m━━━━━━━━━━━━━━━━━━━━━━━━━━━━━━━━━━━━━━━━\u001b[0m \u001b[32m11.5/11.5 MB\u001b[0m \u001b[31m78.8 MB/s\u001b[0m eta \u001b[36m0:00:00\u001b[0m\n",
            "\u001b[?25hDownloading safehttpx-0.1.6-py3-none-any.whl (8.7 kB)\n",
            "Downloading semantic_version-2.10.0-py2.py3-none-any.whl (15 kB)\n",
            "Downloading starlette-0.46.2-py3-none-any.whl (72 kB)\n",
            "\u001b[2K   \u001b[90m━━━━━━━━━━━━━━━━━━━━━━━━━━━━━━━━━━━━━━━━\u001b[0m \u001b[32m72.0/72.0 kB\u001b[0m \u001b[31m6.1 MB/s\u001b[0m eta \u001b[36m0:00:00\u001b[0m\n",
            "\u001b[?25hDownloading tomlkit-0.13.2-py3-none-any.whl (37 kB)\n",
            "Downloading uvicorn-0.34.2-py3-none-any.whl (62 kB)\n",
            "\u001b[2K   \u001b[90m━━━━━━━━━━━━━━━━━━━━━━━━━━━━━━━━━━━━━━━━\u001b[0m \u001b[32m62.5/62.5 kB\u001b[0m \u001b[31m5.0 MB/s\u001b[0m eta \u001b[36m0:00:00\u001b[0m\n",
            "\u001b[?25hDownloading ffmpy-0.5.0-py3-none-any.whl (6.0 kB)\n",
            "Downloading pydub-0.25.1-py2.py3-none-any.whl (32 kB)\n",
            "Installing collected packages: pydub, uvicorn, tomlkit, semantic-version, ruff, python-multipart, groovy, ffmpy, aiofiles, starlette, safehttpx, gradio-client, fastapi, gradio\n",
            "Successfully installed aiofiles-24.1.0 fastapi-0.115.12 ffmpy-0.5.0 gradio-5.27.0 gradio-client-1.9.0 groovy-0.1.2 pydub-0.25.1 python-multipart-0.0.20 ruff-0.11.7 safehttpx-0.1.6 semantic-version-2.10.0 starlette-0.46.2 tomlkit-0.13.2 uvicorn-0.34.2\n"
          ]
        }
      ]
    },
    {
      "cell_type": "markdown",
      "source": [
        "# **UI/UX ADDED**"
      ],
      "metadata": {
        "id": "WnRs72nBOafY"
      }
    },
    {
      "cell_type": "code",
      "source": [
        "import re\n",
        "import gradio as gr\n",
        "\n",
        "# Define the matching function\n",
        "def match_regex(pattern, text):\n",
        "    try:\n",
        "        regex = re.compile(pattern)\n",
        "        if regex.fullmatch(text):\n",
        "            return f\"✅ '{text}' matches the regex '{pattern}'.\"\n",
        "        else:\n",
        "            return f\"❌ '{text}' does NOT match the regex '{pattern}'.\"\n",
        "    except re.error:\n",
        "        return \"⚠️ Invalid regular expression!\"\n",
        "\n",
        "# Create Gradio UI\n",
        "with gr.Blocks() as demo:\n",
        "    gr.Markdown(\"# Regex Matcher 🎯\")\n",
        "    gr.Markdown(\"Enter a simple regex pattern and a text to check if they match.\")\n",
        "\n",
        "    with gr.Row():\n",
        "        regex_input = gr.Textbox(label=\"Enter Regex Pattern\")\n",
        "        text_input = gr.Textbox(label=\"Enter Text to Match\")\n",
        "\n",
        "    output = gr.Textbox(label=\"Result\")\n",
        "\n",
        "    match_button = gr.Button(\"Match\")\n",
        "\n",
        "    match_button.click(match_regex, inputs=[regex_input, text_input], outputs=output)\n",
        "\n",
        "# Launch the app\n",
        "demo.launch()\n"
      ],
      "metadata": {
        "colab": {
          "base_uri": "https://localhost:8080/",
          "height": 646
        },
        "id": "dZFmjyRSMR_L",
        "outputId": "f16ac721-f5c2-467d-df20-1f60b8eed5db"
      },
      "execution_count": null,
      "outputs": [
        {
          "output_type": "stream",
          "name": "stdout",
          "text": [
            "It looks like you are running Gradio on a hosted a Jupyter notebook. For the Gradio app to work, sharing must be enabled. Automatically setting `share=True` (you can turn this off by setting `share=False` in `launch()` explicitly).\n",
            "\n",
            "Colab notebook detected. To show errors in colab notebook, set debug=True in launch()\n",
            "* Running on public URL: https://4e0a99abc4ad0abe1a.gradio.live\n",
            "\n",
            "This share link expires in 1 week. For free permanent hosting and GPU upgrades, run `gradio deploy` from the terminal in the working directory to deploy to Hugging Face Spaces (https://huggingface.co/spaces)\n"
          ]
        },
        {
          "output_type": "display_data",
          "data": {
            "text/plain": [
              "<IPython.core.display.HTML object>"
            ],
            "text/html": [
              "<div><iframe src=\"https://4e0a99abc4ad0abe1a.gradio.live\" width=\"100%\" height=\"500\" allow=\"autoplay; camera; microphone; clipboard-read; clipboard-write;\" frameborder=\"0\" allowfullscreen></iframe></div>"
            ]
          },
          "metadata": {}
        },
        {
          "output_type": "execute_result",
          "data": {
            "text/plain": []
          },
          "metadata": {},
          "execution_count": 3
        }
      ]
    },
    {
      "cell_type": "markdown",
      "source": [
        "ANI"
      ],
      "metadata": {
        "id": "Q3L4SciMOtEp"
      }
    },
    {
      "cell_type": "code",
      "source": [
        "import re\n",
        "import gradio as gr\n",
        "import time\n",
        "\n",
        "def animated_transition_match(pattern, text):\n",
        "    regex = None\n",
        "    try:\n",
        "        regex = re.compile(pattern)\n",
        "    except re.error:\n",
        "        return \"⚠️ Invalid Regular Expression!\"\n",
        "\n",
        "    progressive = \"\"\n",
        "    outputs = []\n",
        "\n",
        "    for char in text:\n",
        "        progressive += char\n",
        "        outputs.append(f\"🔤 Current Text: **{progressive}**\")\n",
        "        time.sleep(0.5)  # Delay between steps\n",
        "\n",
        "    # Final full match check\n",
        "    if regex.fullmatch(text):\n",
        "        outputs.append(\"✅ **Full Match Successful!**\")\n",
        "    else:\n",
        "        outputs.append(\"❌ **Match Failed!**\")\n",
        "\n",
        "    return \"\\n\\n\".join(outputs)\n",
        "\n",
        "# Gradio UI\n",
        "with gr.Blocks() as demo:\n",
        "    gr.Markdown(\"# 🎯 Animated Regex Matcher\")\n",
        "    gr.Markdown(\"Letter-by-letter matching visualization!\")\n",
        "\n",
        "    with gr.Row():\n",
        "        regex_input = gr.Textbox(label=\"Enter Regex Pattern (Example: a*)\")\n",
        "        text_input = gr.Textbox(label=\"Enter Text to Match (Example: aaaaaaa)\")\n",
        "\n",
        "    output = gr.Markdown()\n",
        "\n",
        "    match_button = gr.Button(\"🔍 Start Animated Matching\")\n",
        "\n",
        "    match_button.click(animated_transition_match, inputs=[regex_input, text_input], outputs=output)\n",
        "\n",
        "demo.launch()\n"
      ],
      "metadata": {
        "colab": {
          "base_uri": "https://localhost:8080/",
          "height": 646
        },
        "id": "UmhV2pR8NANy",
        "outputId": "443eb4d9-a3db-4124-d4d9-f5f1fe2a4a28"
      },
      "execution_count": null,
      "outputs": [
        {
          "output_type": "stream",
          "name": "stdout",
          "text": [
            "It looks like you are running Gradio on a hosted a Jupyter notebook. For the Gradio app to work, sharing must be enabled. Automatically setting `share=True` (you can turn this off by setting `share=False` in `launch()` explicitly).\n",
            "\n",
            "Colab notebook detected. To show errors in colab notebook, set debug=True in launch()\n",
            "* Running on public URL: https://8c419867abaa1fdf62.gradio.live\n",
            "\n",
            "This share link expires in 1 week. For free permanent hosting and GPU upgrades, run `gradio deploy` from the terminal in the working directory to deploy to Hugging Face Spaces (https://huggingface.co/spaces)\n"
          ]
        },
        {
          "output_type": "display_data",
          "data": {
            "text/plain": [
              "<IPython.core.display.HTML object>"
            ],
            "text/html": [
              "<div><iframe src=\"https://8c419867abaa1fdf62.gradio.live\" width=\"100%\" height=\"500\" allow=\"autoplay; camera; microphone; clipboard-read; clipboard-write;\" frameborder=\"0\" allowfullscreen></iframe></div>"
            ]
          },
          "metadata": {}
        },
        {
          "output_type": "execute_result",
          "data": {
            "text/plain": []
          },
          "metadata": {},
          "execution_count": 6
        }
      ]
    }
  ]
}